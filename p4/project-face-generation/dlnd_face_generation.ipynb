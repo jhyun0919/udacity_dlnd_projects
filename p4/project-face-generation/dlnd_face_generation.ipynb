{
 "cells": [
  {
   "cell_type": "markdown",
   "metadata": {},
   "source": [
    "# Face Generation\n",
    "\n",
    "In this project, you'll define and train a DCGAN on a dataset of faces. Your goal is to get a generator network to generate *new* images of faces that look as realistic as possible!\n",
    "\n",
    "The project will be broken down into a series of tasks from **loading in data to defining and training adversarial networks**. At the end of the notebook, you'll be able to visualize the results of your trained Generator to see how it performs; your generated samples should look like fairly realistic faces with small amounts of noise.\n",
    "\n",
    "### Get the Data\n",
    "\n",
    "You'll be using the [CelebFaces Attributes Dataset (CelebA)](http://mmlab.ie.cuhk.edu.hk/projects/CelebA.html) to train your adversarial networks.\n",
    "\n",
    "This dataset is more complex than the number datasets (like MNIST or SVHN) you've been working with, and so, you should prepare to define deeper networks and train them for a longer time to get good results. It is suggested that you utilize a GPU for training.\n",
    "\n",
    "### Pre-processed Data\n",
    "\n",
    "Since the project's main focus is on building the GANs, we've done *some* of the pre-processing for you. Each of the CelebA images has been cropped to remove parts of the image that don't include a face, then resized down to 64x64x3 NumPy images. Some sample data is show below.\n",
    "\n",
    "<img src='assets/processed_face_data.png' width=60% />\n",
    "\n",
    "> If you are working locally, you can download this data [by clicking here](https://s3.amazonaws.com/video.udacity-data.com/topher/2018/November/5be7eb6f_processed-celeba-small/processed-celeba-small.zip)\n",
    "\n",
    "This is a zip file that you'll need to extract in the home directory of this notebook for further loading and processing. After extracting the data, you should be left with a directory of data `processed_celeba_small/`"
   ]
  },
  {
   "cell_type": "code",
   "execution_count": 35,
   "metadata": {
    "ExecuteTime": {
     "end_time": "2019-04-19T11:47:18.158113Z",
     "start_time": "2019-04-19T11:47:18.133097Z"
    }
   },
   "outputs": [],
   "source": [
    "import os\n",
    "\n",
    "if not os.path.exists('processed_celeba_small'): \n",
    "    # download the data\n",
    "    !wget https://s3.amazonaws.com/video.udacity-data.com/topher/2018/November/5be7eb6f_processed-celeba-small/processed-celeba-small.zip\n",
    "    # unzip data\n",
    "    !unzip processed-celeba-small.zip\n",
    "    # remove zip data\n",
    "    !rm processed-celeba-small.zip\n",
    "    !rm -rf __MACOSX/"
   ]
  },
  {
   "cell_type": "code",
   "execution_count": 2,
   "metadata": {
    "ExecuteTime": {
     "end_time": "2019-04-17T06:19:56.259951Z",
     "start_time": "2019-04-17T06:19:55.659869Z"
    }
   },
   "outputs": [],
   "source": [
    "data_dir = 'processed_celeba_small/'\n",
    "\n",
    "\"\"\"\n",
    "DON'T MODIFY ANYTHING IN THIS CELL\n",
    "\"\"\"\n",
    "import pickle as pkl\n",
    "import matplotlib.pyplot as plt\n",
    "import numpy as np\n",
    "import problem_unittests as tests\n",
    "#import helper\n",
    "\n",
    "%matplotlib inline"
   ]
  },
  {
   "cell_type": "markdown",
   "metadata": {},
   "source": [
    "## Visualize the CelebA Data\n",
    "\n",
    "The [CelebA](http://mmlab.ie.cuhk.edu.hk/projects/CelebA.html) dataset contains over 200,000 celebrity images with annotations. Since you're going to be generating faces, you won't need the annotations, you'll only need the images. Note that these are color images with [3 color channels (RGB)](https://en.wikipedia.org/wiki/Channel_(digital_image)#RGB_Images) each.\n",
    "\n",
    "### Pre-process and Load the Data\n",
    "\n",
    "Since the project's main focus is on building the GANs, we've done *some* of the pre-processing for you. Each of the CelebA images has been cropped to remove parts of the image that don't include a face, then resized down to 64x64x3 NumPy images. This *pre-processed* dataset is a smaller subset of the very large CelebA data.\n",
    "\n",
    "> There are a few other steps that you'll need to **transform** this data and create a **DataLoader**.\n",
    "\n",
    "#### Exercise: Complete the following `get_dataloader` function, such that it satisfies these requirements:\n",
    "\n",
    "* Your images should be square, Tensor images of size `image_size x image_size` in the x and y dimension.\n",
    "* Your function should return a DataLoader that shuffles and batches these Tensor images.\n",
    "\n",
    "#### ImageFolder\n",
    "\n",
    "To create a dataset given a directory of images, it's recommended that you use PyTorch's [ImageFolder](https://pytorch.org/docs/stable/torchvision/datasets.html#imagefolder) wrapper, with a root directory `processed_celeba_small/` and data transformation passed in."
   ]
  },
  {
   "cell_type": "code",
   "execution_count": 3,
   "metadata": {
    "ExecuteTime": {
     "end_time": "2019-04-17T06:19:58.826101Z",
     "start_time": "2019-04-17T06:19:58.754295Z"
    }
   },
   "outputs": [],
   "source": [
    "# necessary imports\n",
    "import torch\n",
    "from torchvision import datasets\n",
    "from torchvision import transforms"
   ]
  },
  {
   "cell_type": "code",
   "execution_count": 4,
   "metadata": {
    "ExecuteTime": {
     "end_time": "2019-04-17T06:20:47.061009Z",
     "start_time": "2019-04-17T06:20:47.055739Z"
    }
   },
   "outputs": [],
   "source": [
    "def get_dataloader(batch_size, image_size, data_dir='processed_celeba_small/'):\n",
    "    \"\"\"\n",
    "    Batch the neural network data using DataLoader\n",
    "    :param batch_size: The size of each batch; the number of images in a batch\n",
    "    :param img_size: The square size of the image data (x, y)\n",
    "    :param data_dir: Directory where image data is located\n",
    "    :return: DataLoader with batched data\n",
    "    \"\"\"\n",
    "\n",
    "    # TODO: Implement function and return a dataloader\n",
    "    transform = transforms.Compose([\n",
    "        transforms.Resize(image_size),\n",
    "        transforms.CenterCrop(image_size),\n",
    "        transforms.ToTensor()\n",
    "    ])\n",
    "\n",
    "    dataset = datasets.ImageFolder(data_dir, transform=transform)\n",
    "\n",
    "    # TODO: Implement function and return a dataloader\n",
    "    data_loader = torch.utils.data.DataLoader(dataset=dataset,\n",
    "                                              batch_size=batch_size,\n",
    "                                              shuffle=True)\n",
    "\n",
    "    return data_loader"
   ]
  },
  {
   "cell_type": "markdown",
   "metadata": {},
   "source": [
    "## Create a DataLoader\n",
    "\n",
    "#### Exercise: Create a DataLoader `celeba_train_loader` with appropriate hyperparameters.\n",
    "\n",
    "Call the above function and create a dataloader to view images. \n",
    "* You can decide on any reasonable `batch_size` parameter\n",
    "* Your `image_size` **must be** `32`. Resizing the data to a smaller size will make for faster training, while still creating convincing images of faces!"
   ]
  },
  {
   "cell_type": "code",
   "execution_count": 5,
   "metadata": {
    "ExecuteTime": {
     "end_time": "2019-04-17T06:22:05.925008Z",
     "start_time": "2019-04-17T06:22:02.607939Z"
    }
   },
   "outputs": [],
   "source": [
    "# Define function hyperparameters\n",
    "batch_size = 128\n",
    "img_size = 32\n",
    "\n",
    "\"\"\"\n",
    "DON'T MODIFY ANYTHING IN THIS CELL THAT IS BELOW THIS LINE\n",
    "\"\"\"\n",
    "# Call your function and get a dataloader\n",
    "celeba_train_loader = get_dataloader(batch_size, img_size)\n"
   ]
  },
  {
   "cell_type": "markdown",
   "metadata": {},
   "source": [
    "Next, you can view some images! You should seen square images of somewhat-centered faces.\n",
    "\n",
    "Note: You'll need to convert the Tensor images into a NumPy type and transpose the dimensions to correctly display an image, suggested `imshow` code is below, but it may not be perfect."
   ]
  },
  {
   "cell_type": "code",
   "execution_count": 13,
   "metadata": {
    "ExecuteTime": {
     "end_time": "2019-04-17T06:31:02.536302Z",
     "start_time": "2019-04-17T06:31:01.280944Z"
    }
   },
   "outputs": [
    {
     "data": {
      "image/png": "[encoded data removed]",
      "text/plain": [
       "<Figure size 1440x288 with 20 Axes>"
      ]
     },
     "metadata": {},
     "output_type": "display_data"
    }
   ],
   "source": [
    "# helper display function\n",
    "def imshow(img):\n",
    "    npimg = img.numpy()\n",
    "    plt.imshow(np.transpose(npimg, (1, 2, 0)))\n",
    "\n",
    "\"\"\"\n",
    "DON'T MODIFY ANYTHING IN THIS CELL THAT IS BELOW THIS LINE\n",
    "\"\"\"\n",
    "# obtain one batch of training images\n",
    "dataiter = iter(celeba_train_loader)\n",
    "images, _ = dataiter.next() # _ for no labels\n",
    "\n",
    "# plot the images in the batch, along with the corresponding labels\n",
    "fig = plt.figure(figsize=(20, 4))\n",
    "plot_size=20\n",
    "for idx in np.arange(plot_size):\n",
    "    ax = fig.add_subplot(2, plot_size/2, idx+1, xticks=[], yticks=[])\n",
    "    imshow(images[idx])"
   ]
  },
  {
   "cell_type": "markdown",
   "metadata": {},
   "source": [
    "#### Exercise: Pre-process your image data and scale it to a pixel range of -1 to 1\n",
    "\n",
    "You need to do a bit of pre-processing; you know that the output of a `tanh` activated generator will contain pixel values in a range from -1 to 1, and so, we need to rescale our training images to a range of -1 to 1. (Right now, they are in a range from 0-1.)"
   ]
  },
  {
   "cell_type": "code",
   "execution_count": 15,
   "metadata": {
    "ExecuteTime": {
     "end_time": "2019-04-17T06:31:09.953151Z",
     "start_time": "2019-04-17T06:31:09.943961Z"
    }
   },
   "outputs": [],
   "source": [
    "# TODO: Complete the scale function\n",
    "def scale(x, feature_range=(-1, 1)):\n",
    "    ''' Scale takes in an image x and returns that image, scaled\n",
    "       with a feature_range of pixel values from -1 to 1. \n",
    "       This function assumes that the input x is already scaled from 0-1.'''\n",
    "    # assume x is scaled to (0, 1)\n",
    "    # scale to feature_range and return scaled x\n",
    "    min_limit, max_limit = feature_range\n",
    "    scale = max_limit - min_limit\n",
    "    x_scaled = scale * x\n",
    "    x_shifted = x_scaled + min_limit\n",
    "    \n",
    "    return x_shifted\n"
   ]
  },
  {
   "cell_type": "code",
   "execution_count": 17,
   "metadata": {
    "ExecuteTime": {
     "end_time": "2019-04-17T06:31:13.826347Z",
     "start_time": "2019-04-17T06:31:13.813386Z"
    }
   },
   "outputs": [
    {
     "name": "stdout",
     "output_type": "stream",
     "text": [
      "Min:  tensor(-0.9686)\n",
      "Max:  tensor(0.8510)\n"
     ]
    }
   ],
   "source": [
    "\"\"\"\n",
    "DON'T MODIFY ANYTHING IN THIS CELL THAT IS BELOW THIS LINE\n",
    "\"\"\"\n",
    "# check scaled range\n",
    "# should be close to -1 to 1\n",
    "img = images[2]\n",
    "scaled_img = scale(img)\n",
    "\n",
    "print('Min: ', scaled_img.min())\n",
    "print('Max: ', scaled_img.max())"
   ]
  },
  {
   "cell_type": "markdown",
   "metadata": {},
   "source": [
    "---\n",
    "# Define the Model\n",
    "\n",
    "A GAN is comprised of two adversarial networks, a discriminator and a generator.\n",
    "\n",
    "## Discriminator\n",
    "\n",
    "Your first task will be to define the discriminator. This is a convolutional classifier like you've built before, only without any maxpooling layers. To deal with this complex data, it's suggested you use a deep network with **normalization**. You are also allowed to create any helper functions that may be useful.\n",
    "\n",
    "#### Exercise: Complete the Discriminator class\n",
    "* The inputs to the discriminator are 32x32x3 tensor images\n",
    "* The output should be a single value that will indicate whether a given image is real or fake\n"
   ]
  },
  {
   "cell_type": "code",
   "execution_count": 18,
   "metadata": {
    "ExecuteTime": {
     "end_time": "2019-04-17T06:31:17.070631Z",
     "start_time": "2019-04-17T06:31:17.064463Z"
    }
   },
   "outputs": [],
   "source": [
    "import torch.nn as nn\n",
    "import torch.nn.functional as F"
   ]
  },
  {
   "cell_type": "code",
   "execution_count": 20,
   "metadata": {
    "ExecuteTime": {
     "end_time": "2019-04-17T06:36:39.096862Z",
     "start_time": "2019-04-17T06:36:38.966563Z"
    }
   },
   "outputs": [
    {
     "name": "stdout",
     "output_type": "stream",
     "text": [
      "Tests Passed\n"
     ]
    }
   ],
   "source": [
    "def conv_layer(in_channels,\n",
    "               out_channels,\n",
    "               kernel_size,\n",
    "               stride=2,\n",
    "               padding=1,\n",
    "               batch_norm=True):\n",
    "\n",
    "    nn_layers = []\n",
    "\n",
    "    conv_layer = nn.Conv2d(\n",
    "        in_channels=in_channels,\n",
    "        out_channels=out_channels,\n",
    "        kernel_size=kernel_size,\n",
    "        stride=stride,\n",
    "        padding=padding)\n",
    "    nn_layers.append(conv_layer)\n",
    "\n",
    "    if batch_norm:\n",
    "        bn_layer = nn.BatchNorm2d(num_features=out_channels)\n",
    "        nn_layers.append(bn_layer)\n",
    "    \n",
    "    return nn.Sequential(*nn_layers)\n",
    "\n",
    "\n",
    "class Discriminator(nn.Module):\n",
    "    def __init__(self, conv_dim):\n",
    "        \"\"\"\n",
    "        Initialize the Discriminator Module\n",
    "        :param conv_dim: The depth of the first convolutional layer\n",
    "        \"\"\"\n",
    "        super(Discriminator, self).__init__()\n",
    "\n",
    "        # complete init function\n",
    "        self.conv_dim = conv_dim\n",
    "        \n",
    "        # CONV ###\n",
    "        # 32x32x3\n",
    "        self.conv1 = conv_layer(3, conv_dim, 4, batch_norm=False) # no BN in first layer ###\n",
    "        # 16x16x\n",
    "        self.conv2 = conv_layer(conv_dim, conv_dim*2, 4)\n",
    "        # 8x8x\n",
    "        self.conv3 = conv_layer(conv_dim*2, conv_dim*4, 4)\n",
    "        # 4x4x\n",
    "        self.conv4 = conv_layer(conv_dim*4, conv_dim*8, 4)\n",
    "        # 2x2x\n",
    "        \n",
    "        # FC\n",
    "        self.fc = nn.Linear(conv_dim*8*2*2, 1) ###\n",
    "\n",
    "    def forward(self, x):\n",
    "        \"\"\"\n",
    "        Forward propagation of the neural network\n",
    "        :param x: The input to the neural network     \n",
    "        :return: Discriminator logits; the output of the neural network\n",
    "        \"\"\"\n",
    "        # define feedforward behavior\n",
    "        \n",
    "        x = F.leaky_relu(self.conv1(x), 0.2) ### leaky???\n",
    "        x = F.leaky_relu(self.conv2(x), 0.2)\n",
    "        x = F.leaky_relu(self.conv3(x), 0.2)\n",
    "        x = F.leaky_relu(self.conv4(x), 0.2)\n",
    "        \n",
    "        x = x.view(-1, self.conv_dim*8*2*2) ###\n",
    "        \n",
    "        x = self.fc(x)        \n",
    "\n",
    "        return x\n",
    "\n",
    "\n",
    "\"\"\"\n",
    "DON'T MODIFY ANYTHING IN THIS CELL THAT IS BELOW THIS LINE\n",
    "\"\"\"\n",
    "tests.test_discriminator(Discriminator)"
   ]
  },
  {
   "cell_type": "markdown",
   "metadata": {},
   "source": [
    "## Generator\n",
    "\n",
    "The generator should upsample an input and generate a *new* image of the same size as our training data `32x32x3`. This should be mostly transpose convolutional layers with normalization applied to the outputs.\n",
    "\n",
    "#### Exercise: Complete the Generator class\n",
    "* The inputs to the generator are vectors of some length `z_size`\n",
    "* The output should be a image of shape `32x32x3`"
   ]
  },
  {
   "cell_type": "code",
   "execution_count": 21,
   "metadata": {
    "ExecuteTime": {
     "end_time": "2019-04-17T06:39:50.605910Z",
     "start_time": "2019-04-17T06:39:50.528974Z"
    }
   },
   "outputs": [
    {
     "name": "stdout",
     "output_type": "stream",
     "text": [
      "Tests Passed\n"
     ]
    }
   ],
   "source": [
    "def deconv_layer(in_channels,\n",
    "                 out_channels,\n",
    "                 kernel_size,\n",
    "                 stride=2,\n",
    "                 padding=1,\n",
    "                 batch_norm=True):\n",
    "    nn_layers = []\n",
    "\n",
    "    transpose_conv_layer = nn.ConvTranspose2d(\n",
    "        in_channels, out_channels, kernel_size, stride, padding, bias=False)\n",
    "    nn_layers.append(transpose_conv_layer)\n",
    "\n",
    "    if batch_norm:\n",
    "        bn_layer = nn.BatchNorm2d(out_channels)\n",
    "        nn_layers.append(bn_layer)\n",
    "\n",
    "    return nn.Sequential(*nn_layers)\n",
    "\n",
    "\n",
    "class Generator(nn.Module):\n",
    "    def __init__(self, z_size, conv_dim):\n",
    "        \"\"\"\n",
    "        Initialize the Generator Module\n",
    "        :param z_size: The length of the input latent vector, z\n",
    "        :param conv_dim: The depth of the inputs to the *last* transpose convolutional layer\n",
    "        \"\"\"\n",
    "        super(Generator, self).__init__()\n",
    "\n",
    "        # complete init function\n",
    "        self.conv_dim = conv_dim\n",
    "        \n",
    "        # FC\n",
    "        self.fc = nn.Linear(z_size, conv_dim*8*2*2)\n",
    "\n",
    "        # DECONV\n",
    "        self.deconv1 = deconv_layer(conv_dim*8, conv_dim*4, 4)\n",
    "        self.deconv2 = deconv_layer(conv_dim*4, conv_dim*2, 4)\n",
    "        self.deconv3 = deconv_layer(conv_dim*2, conv_dim, 4)\n",
    "        self.deconv4 = deconv_layer(conv_dim, 3, 4, batch_norm=False) # no BN in last layer ###\n",
    "\n",
    "    def forward(self, x):\n",
    "        \"\"\"\n",
    "        Forward propagation of the neural network\n",
    "        :param x: The input to the neural network     \n",
    "        :return: A 32x32x3 Tensor image as output\n",
    "        \"\"\"\n",
    "        # define feedforward behavior\n",
    "         \n",
    "        x = self.fc(x)\n",
    "        x = x.view(-1, self.conv_dim*8, 2, 2) # (batch_size, depth, 4, 4)\n",
    "        \n",
    "        x = F.relu(self.deconv1(x))\n",
    "        x = F.relu(self.deconv2(x))\n",
    "        x = F.relu(self.deconv3(x))\n",
    "        \n",
    "        x = torch.tanh(self.deconv4(x)) # last activation must be tanh\n",
    "        \n",
    "\n",
    "        return x\n",
    "\n",
    "\n",
    "\"\"\"\n",
    "DON'T MODIFY ANYTHING IN THIS CELL THAT IS BELOW THIS LINE\n",
    "\"\"\"\n",
    "tests.test_generator(Generator)"
   ]
  },
  {
   "cell_type": "markdown",
   "metadata": {},
   "source": [
    "## Initialize the weights of your networks\n",
    "\n",
    "To help your models converge, you should initialize the weights of the convolutional and linear layers in your model. From reading the [original DCGAN paper](https://arxiv.org/pdf/1511.06434.pdf), they say:\n",
    "> All weights were initialized from a zero-centered Normal distribution with standard deviation 0.02.\n",
    "\n",
    "So, your next task will be to define a weight initialization function that does just this!\n",
    "\n",
    "You can refer back to the lesson on weight initialization or even consult existing model code, such as that from [the `networks.py` file in CycleGAN Github repository](https://github.com/junyanz/pytorch-CycleGAN-and-pix2pix/blob/master/models/networks.py) to help you complete this function.\n",
    "\n",
    "#### Exercise: Complete the weight initialization function\n",
    "\n",
    "* This should initialize only **convolutional** and **linear** layers\n",
    "* Initialize the weights to a normal distribution, centered around 0, with a standard deviation of 0.02.\n",
    "* The bias terms, if they exist, may be left alone or set to 0."
   ]
  },
  {
   "cell_type": "code",
   "execution_count": 22,
   "metadata": {
    "ExecuteTime": {
     "end_time": "2019-04-17T06:41:55.260362Z",
     "start_time": "2019-04-17T06:41:55.247620Z"
    }
   },
   "outputs": [],
   "source": [
    "def weights_init_normal(m):\n",
    "    \"\"\"\n",
    "    Applies initial weights to certain layers in a model .\n",
    "    The weights are taken from a normal distribution \n",
    "    with mean = 0, std dev = 0.02.\n",
    "    :param m: A module or layer in a network    \n",
    "    \"\"\"\n",
    "    # classname will be something like:\n",
    "    # `Conv`, `BatchNorm2d`, `Linear`, etc.\n",
    "    classname = m.__class__.__name__\n",
    "\n",
    "    # TODO: Apply initial weights to convolutional and linear layers\n",
    "    if hasattr(m, 'weight') and (classname.find('Conv') != -1\n",
    "                                 or classname.find('Linear') != -1):\n",
    "        # Initialize the weights to a normal distribution,\n",
    "        # centered around 0, with a standard deviation of 0.02\n",
    "        m.weight.data.normal_(0.0, 0.02)\n",
    "\n",
    "        # The bias terms, if they exist, may be left alone or set to 0\n",
    "        if hasattr(m, 'bias') and m.bias is not None:\n",
    "            m.bias.data.zero_()"
   ]
  },
  {
   "cell_type": "markdown",
   "metadata": {
    "collapsed": true
   },
   "source": [
    "## Build complete network\n",
    "\n",
    "Define your models' hyperparameters and instantiate the discriminator and generator from the classes defined above. Make sure you've passed in the correct input arguments."
   ]
  },
  {
   "cell_type": "code",
   "execution_count": 23,
   "metadata": {
    "ExecuteTime": {
     "end_time": "2019-04-17T06:41:58.460193Z",
     "start_time": "2019-04-17T06:41:58.449445Z"
    }
   },
   "outputs": [],
   "source": [
    "\"\"\"\n",
    "DON'T MODIFY ANYTHING IN THIS CELL THAT IS BELOW THIS LINE\n",
    "\"\"\"\n",
    "def build_network(d_conv_dim, g_conv_dim, z_size):\n",
    "    # define discriminator and generator\n",
    "    D = Discriminator(d_conv_dim)\n",
    "    G = Generator(z_size=z_size, conv_dim=g_conv_dim)\n",
    "\n",
    "    # initialize model weights\n",
    "    D.apply(weights_init_normal)\n",
    "    G.apply(weights_init_normal)\n",
    "\n",
    "    print(D)\n",
    "    print()\n",
    "    print(G)\n",
    "    \n",
    "    return D, G\n"
   ]
  },
  {
   "cell_type": "markdown",
   "metadata": {},
   "source": [
    "#### Exercise: Define model hyperparameters"
   ]
  },
  {
   "cell_type": "code",
   "execution_count": 24,
   "metadata": {
    "ExecuteTime": {
     "end_time": "2019-04-17T06:42:07.152849Z",
     "start_time": "2019-04-17T06:42:06.656288Z"
    }
   },
   "outputs": [
    {
     "name": "stdout",
     "output_type": "stream",
     "text": [
      "Discriminator(\n",
      "  (conv1): Sequential(\n",
      "    (0): Conv2d(3, 64, kernel_size=(4, 4), stride=(2, 2), padding=(1, 1))\n",
      "  )\n",
      "  (conv2): Sequential(\n",
      "    (0): Conv2d(64, 128, kernel_size=(4, 4), stride=(2, 2), padding=(1, 1))\n",
      "    (1): BatchNorm2d(128, eps=1e-05, momentum=0.1, affine=True, track_running_stats=True)\n",
      "  )\n",
      "  (conv3): Sequential(\n",
      "    (0): Conv2d(128, 256, kernel_size=(4, 4), stride=(2, 2), padding=(1, 1))\n",
      "    (1): BatchNorm2d(256, eps=1e-05, momentum=0.1, affine=True, track_running_stats=True)\n",
      "  )\n",
      "  (conv4): Sequential(\n",
      "    (0): Conv2d(256, 512, kernel_size=(4, 4), stride=(2, 2), padding=(1, 1))\n",
      "    (1): BatchNorm2d(512, eps=1e-05, momentum=0.1, affine=True, track_running_stats=True)\n",
      "  )\n",
      "  (fc): Linear(in_features=2048, out_features=1, bias=True)\n",
      ")\n",
      "\n",
      "Generator(\n",
      "  (fc): Linear(in_features=100, out_features=2048, bias=True)\n",
      "  (deconv1): Sequential(\n",
      "    (0): ConvTranspose2d(512, 256, kernel_size=(4, 4), stride=(2, 2), padding=(1, 1), bias=False)\n",
      "    (1): BatchNorm2d(256, eps=1e-05, momentum=0.1, affine=True, track_running_stats=True)\n",
      "  )\n",
      "  (deconv2): Sequential(\n",
      "    (0): ConvTranspose2d(256, 128, kernel_size=(4, 4), stride=(2, 2), padding=(1, 1), bias=False)\n",
      "    (1): BatchNorm2d(128, eps=1e-05, momentum=0.1, affine=True, track_running_stats=True)\n",
      "  )\n",
      "  (deconv3): Sequential(\n",
      "    (0): ConvTranspose2d(128, 64, kernel_size=(4, 4), stride=(2, 2), padding=(1, 1), bias=False)\n",
      "    (1): BatchNorm2d(64, eps=1e-05, momentum=0.1, affine=True, track_running_stats=True)\n",
      "  )\n",
      "  (deconv4): Sequential(\n",
      "    (0): ConvTranspose2d(64, 3, kernel_size=(4, 4), stride=(2, 2), padding=(1, 1), bias=False)\n",
      "  )\n",
      ")\n"
     ]
    }
   ],
   "source": [
    "# Define model hyperparams\n",
    "d_conv_dim = 64\n",
    "g_conv_dim = 64\n",
    "z_size = 100\n",
    "\n",
    "\"\"\"\n",
    "DON'T MODIFY ANYTHING IN THIS CELL THAT IS BELOW THIS LINE\n",
    "\"\"\"\n",
    "D, G = build_network(d_conv_dim, g_conv_dim, z_size)"
   ]
  },
  {
   "cell_type": "markdown",
   "metadata": {},
   "source": [
    "### Training on GPU\n",
    "\n",
    "Check if you can train on GPU. Here, we'll set this as a boolean variable `train_on_gpu`. Later, you'll be responsible for making sure that \n",
    ">* Models,\n",
    "* Model inputs, and\n",
    "* Loss function arguments\n",
    "\n",
    "Are moved to GPU, where appropriate."
   ]
  },
  {
   "cell_type": "code",
   "execution_count": 25,
   "metadata": {
    "ExecuteTime": {
     "end_time": "2019-04-17T06:42:53.675823Z",
     "start_time": "2019-04-17T06:42:53.666104Z"
    }
   },
   "outputs": [
    {
     "name": "stdout",
     "output_type": "stream",
     "text": [
      "Training on GPU!\n"
     ]
    }
   ],
   "source": [
    "\"\"\"\n",
    "DON'T MODIFY ANYTHING IN THIS CELL\n",
    "\"\"\"\n",
    "import torch\n",
    "\n",
    "# Check for a GPU\n",
    "train_on_gpu = torch.cuda.is_available()\n",
    "if not train_on_gpu:\n",
    "    print('No GPU found. Please use a GPU to train your neural network.')\n",
    "else:\n",
    "    print('Training on GPU!')"
   ]
  },
  {
   "cell_type": "markdown",
   "metadata": {},
   "source": [
    "---\n",
    "## Discriminator and Generator Losses\n",
    "\n",
    "Now we need to calculate the losses for both types of adversarial networks.\n",
    "\n",
    "### Discriminator Losses\n",
    "\n",
    "> * For the discriminator, the total loss is the sum of the losses for real and fake images, `d_loss = d_real_loss + d_fake_loss`. \n",
    "* Remember that we want the discriminator to output 1 for real images and 0 for fake images, so we need to set up the losses to reflect that.\n",
    "\n",
    "\n",
    "### Generator Loss\n",
    "\n",
    "The generator loss will look similar only with flipped labels. The generator's goal is to get the discriminator to *think* its generated images are *real*.\n",
    "\n",
    "#### Exercise: Complete real and fake loss functions\n",
    "\n",
    "**You may choose to use either cross entropy or a least squares error loss to complete the following `real_loss` and `fake_loss` functions.**"
   ]
  },
  {
   "cell_type": "code",
   "execution_count": 27,
   "metadata": {
    "ExecuteTime": {
     "end_time": "2019-04-17T06:43:59.711118Z",
     "start_time": "2019-04-17T06:43:59.695702Z"
    }
   },
   "outputs": [],
   "source": [
    "def real_loss(D_out):\n",
    "    '''Calculates how close discriminator outputs are to being real.\n",
    "       param, D_out: discriminator logits\n",
    "       return: real loss'''\n",
    "    if train_on_gpu:\n",
    "        labels = labels.cuda()\n",
    "    \n",
    "    batch_size = D_out.size(0)\n",
    "    \n",
    "    # real = 1\n",
    "    preds = torch.ones(batch_size) * 0.9 ###\n",
    "    \n",
    "    criterion = nn.BCEWithLogitsLoss()\n",
    "    loss = criterion(D_out.squeeze(), preds)\n",
    "    return loss\n",
    "\n",
    "def fake_loss(D_out):\n",
    "    '''Calculates how close discriminator outputs are to being fake.\n",
    "       param, D_out: discriminator logits\n",
    "       return: fake loss'''\n",
    "    if train_on_gpu:\n",
    "        labels = labels.cuda()\n",
    "    \n",
    "    batch_size = D_out.size(0)\n",
    "    \n",
    "    # fake = 0\n",
    "    preds = torch.zeros(batch_size)\n",
    "\n",
    "    criterion = nn.BCEWithLogitsLoss()\n",
    "    loss = criterion(D_out.squeeze(), preds) \n",
    "    return loss"
   ]
  },
  {
   "cell_type": "markdown",
   "metadata": {},
   "source": [
    "## Optimizers\n",
    "\n",
    "#### Exercise: Define optimizers for your Discriminator (D) and Generator (G)\n",
    "\n",
    "Define optimizers for your models with appropriate hyperparameters."
   ]
  },
  {
   "cell_type": "code",
   "execution_count": 28,
   "metadata": {
    "ExecuteTime": {
     "end_time": "2019-04-17T06:44:00.567619Z",
     "start_time": "2019-04-17T06:44:00.557960Z"
    }
   },
   "outputs": [],
   "source": [
    "import torch.optim as optim\n",
    "\n",
    "# Create optimizers for the discriminator D and generator G\n",
    "d_optimizer = optim.Adam(D.parameters(), lr=0.0002, betas=(0.5, 0.999)) ###\n",
    "g_optimizer = optim.Adam(G.parameters(), lr=0.0002, betas=(0.5, 0.999)) ###"
   ]
  },
  {
   "cell_type": "markdown",
   "metadata": {},
   "source": [
    "---\n",
    "## Training\n",
    "\n",
    "Training will involve alternating between training the discriminator and the generator. You'll use your functions `real_loss` and `fake_loss` to help you calculate the discriminator losses.\n",
    "\n",
    "* You should train the discriminator by alternating on real and fake images\n",
    "* Then the generator, which tries to trick the discriminator and should have an opposing loss function\n",
    "\n",
    "\n",
    "#### Saving Samples\n",
    "\n",
    "You've been given some code to print out some loss statistics and save some generated \"fake\" samples."
   ]
  },
  {
   "cell_type": "markdown",
   "metadata": {},
   "source": [
    "#### Exercise: Complete the training function\n",
    "\n",
    "Keep in mind that, if you've moved your models to GPU, you'll also have to move any model inputs to GPU."
   ]
  },
  {
   "cell_type": "code",
   "execution_count": 29,
   "metadata": {
    "ExecuteTime": {
     "end_time": "2019-04-17T06:59:23.199140Z",
     "start_time": "2019-04-17T06:59:23.158871Z"
    }
   },
   "outputs": [],
   "source": [
    "def train(D, G, n_epochs, print_every=50):\n",
    "    '''Trains adversarial networks for some number of epochs\n",
    "       param, D: the discriminator network\n",
    "       param, G: the generator network\n",
    "       param, n_epochs: number of epochs to train for\n",
    "       param, print_every: when to print and record the models' losses\n",
    "       return: D and G losses'''\n",
    "    \n",
    "    # move models to GPU\n",
    "    if train_on_gpu:\n",
    "        D.cuda()\n",
    "        G.cuda()\n",
    "\n",
    "    # keep track of loss and generated, \"fake\" samples\n",
    "    samples = []\n",
    "    losses = []\n",
    "\n",
    "    # Get some fixed data for sampling. These are images that are held\n",
    "    # constant throughout training, and allow us to inspect the model's performance\n",
    "    sample_size=16\n",
    "    fixed_z = np.random.uniform(-1, 1, size=(sample_size, z_size))\n",
    "    fixed_z = torch.from_numpy(fixed_z).float()\n",
    "    # move z to GPU if available\n",
    "    if train_on_gpu:\n",
    "        fixed_z = fixed_z.cuda()\n",
    "\n",
    "    # epoch training loop\n",
    "    for epoch in range(n_epochs):\n",
    "\n",
    "        # batch training loop\n",
    "        for batch_i, (real_images, _) in enumerate(celeba_train_loader):\n",
    "\n",
    "            batch_size = real_images.size(0)\n",
    "            real_images = scale(real_images)\n",
    "\n",
    "            # ===============================================\n",
    "            #         YOUR CODE HERE: TRAIN THE NETWORKS\n",
    "            # ===============================================\n",
    "            \n",
    "            if train_on_gpu:\n",
    "                real_images = real_images.cuda()\n",
    "            \n",
    "            # 1. D\n",
    "            \n",
    "            # D_init grad\n",
    "            d_optimizer.zero_grad()\n",
    "            \n",
    "            # D_real_foward\n",
    "            D_real = D(real_images)\n",
    "            # D_real_cal loss\n",
    "            d_real_loss = real_loss(D_real)\n",
    "            \n",
    "            # (G_forward)\n",
    "            z = np.random.uniform(-1, 1, size=(batch_size, z_size))\n",
    "            z = torch.from_numpy(z).float()\n",
    "            if train_on_gpu:\n",
    "                z = z.cuda()\n",
    "            fake_images = G(z)\n",
    "            \n",
    "            # D_fake_forward\n",
    "            D_fake = D(fake_images)\n",
    "            # D_fake_cal loss\n",
    "            d_fake_loss = fake_loss(D_fake)\n",
    "            \n",
    "            # D_add up both losses\n",
    "            d_loss = d_real_loss + d_fake_loss\n",
    "            # D_backprop\n",
    "            d_loss.backward()\n",
    "            # D_weight update\n",
    "            d_optimizer.step()\n",
    "            \n",
    "            # 2. G\n",
    "            \n",
    "            # G_init grad\n",
    "            g_optimizer.zero_grad()\n",
    "            \n",
    "            # G_forward\n",
    "            z = np.random.uniform(-1, 1, size=(batch_size, z_size))\n",
    "            z = torch.from_numpy(z).float()\n",
    "            if train_on_gpu:\n",
    "                z = z.cuda()\n",
    "            fake_images = G(z)\n",
    "            \n",
    "            # (D_foward)\n",
    "            D_fake = D(fake_images)\n",
    "            # G_cal loss\n",
    "            g_loss = real_loss(D_fake)\n",
    "            \n",
    "            # G_backprop\n",
    "            g_loss.backward()\n",
    "            # G_weight update\n",
    "            g_optimizer.step()\n",
    "            \n",
    "            # ===============================================\n",
    "            #              END OF YOUR CODE\n",
    "            # ===============================================\n",
    "\n",
    "            # Print some loss stats\n",
    "            if batch_i % print_every == 0:\n",
    "                # append discriminator loss and generator loss\n",
    "                losses.append((d_loss.item(), g_loss.item()))\n",
    "                # print discriminator and generator loss\n",
    "                print('Epoch [{:5d}/{:5d}] | d_loss: {:6.4f} | g_loss: {:6.4f}'.format(\n",
    "                        epoch+1, n_epochs, d_loss.item(), g_loss.item()))\n",
    "\n",
    "\n",
    "        ## AFTER EACH EPOCH##    \n",
    "        # this code assumes your generator is named G, feel free to change the name\n",
    "        # generate and save sample, fake images\n",
    "        G.eval() # for generating samples\n",
    "        samples_z = G(fixed_z)\n",
    "        samples.append(samples_z)\n",
    "        G.train() # back to training mode\n",
    "\n",
    "    # Save training generator samples\n",
    "    with open('train_samples.pkl', 'wb') as f:\n",
    "        pkl.dump(samples, f)\n",
    "    \n",
    "    # finally return losses\n",
    "    return losses"
   ]
  },
  {
   "cell_type": "markdown",
   "metadata": {},
   "source": [
    "Set your number of training epochs and train your GAN!"
   ]
  },
  {
   "cell_type": "code",
   "execution_count": 30,
   "metadata": {
    "ExecuteTime": {
     "end_time": "2019-04-17T08:09:31.407315Z",
     "start_time": "2019-04-17T06:59:50.253134Z"
    },
    "scrolled": true
   },
   "outputs": [
    {
     "name": "stdout",
     "output_type": "stream",
     "text": [
      "Epoch [    1/   20] | d_loss: 1.4193 | g_loss: 1.1938\n",
      "Epoch [    1/   20] | d_loss: 0.3792 | g_loss: 4.8603\n",
      "Epoch [    1/   20] | d_loss: 0.5018 | g_loss: 3.6449\n",
      "Epoch [    1/   20] | d_loss: 0.5866 | g_loss: 3.0297\n",
      "Epoch [    1/   20] | d_loss: 0.7139 | g_loss: 3.2188\n",
      "Epoch [    1/   20] | d_loss: 0.8108 | g_loss: 2.7470\n",
      "Epoch [    1/   20] | d_loss: 0.8115 | g_loss: 2.4124\n",
      "Epoch [    1/   20] | d_loss: 0.9346 | g_loss: 3.0408\n",
      "Epoch [    1/   20] | d_loss: 0.7840 | g_loss: 2.7334\n",
      "Epoch [    1/   20] | d_loss: 1.0646 | g_loss: 2.6344\n",
      "Epoch [    1/   20] | d_loss: 0.9368 | g_loss: 3.1052\n",
      "Epoch [    1/   20] | d_loss: 1.1108 | g_loss: 2.5406\n",
      "Epoch [    1/   20] | d_loss: 0.7110 | g_loss: 2.4090\n",
      "Epoch [    1/   20] | d_loss: 0.9034 | g_loss: 2.0557\n",
      "Epoch [    1/   20] | d_loss: 0.9479 | g_loss: 1.8592\n",
      "Epoch [    2/   20] | d_loss: 0.8050 | g_loss: 2.2905\n",
      "Epoch [    2/   20] | d_loss: 1.0206 | g_loss: 1.1976\n",
      "Epoch [    2/   20] | d_loss: 1.0182 | g_loss: 1.2970\n",
      "Epoch [    2/   20] | d_loss: 1.0098 | g_loss: 1.6449\n",
      "Epoch [    2/   20] | d_loss: 1.5284 | g_loss: 2.4951\n",
      "Epoch [    2/   20] | d_loss: 0.9158 | g_loss: 1.8326\n",
      "Epoch [    2/   20] | d_loss: 0.9228 | g_loss: 2.2249\n",
      "Epoch [    2/   20] | d_loss: 0.9066 | g_loss: 1.7675\n",
      "Epoch [    2/   20] | d_loss: 0.8648 | g_loss: 1.4876\n",
      "Epoch [    2/   20] | d_loss: 1.2274 | g_loss: 2.7354\n",
      "Epoch [    2/   20] | d_loss: 0.9041 | g_loss: 1.6205\n",
      "Epoch [    2/   20] | d_loss: 0.8593 | g_loss: 1.9564\n",
      "Epoch [    2/   20] | d_loss: 1.0893 | g_loss: 1.0889\n",
      "Epoch [    2/   20] | d_loss: 0.8901 | g_loss: 1.6311\n",
      "Epoch [    2/   20] | d_loss: 1.0856 | g_loss: 1.4845\n",
      "Epoch [    3/   20] | d_loss: 1.1436 | g_loss: 2.9458\n",
      "Epoch [    3/   20] | d_loss: 0.8999 | g_loss: 1.8309\n",
      "Epoch [    3/   20] | d_loss: 0.8423 | g_loss: 2.0864\n",
      "Epoch [    3/   20] | d_loss: 0.9966 | g_loss: 1.6069\n",
      "Epoch [    3/   20] | d_loss: 0.8670 | g_loss: 1.3287\n",
      "Epoch [    3/   20] | d_loss: 0.8047 | g_loss: 1.9972\n",
      "Epoch [    3/   20] | d_loss: 0.9442 | g_loss: 1.9398\n",
      "Epoch [    3/   20] | d_loss: 0.8091 | g_loss: 1.9458\n",
      "Epoch [    3/   20] | d_loss: 0.9511 | g_loss: 1.6773\n",
      "Epoch [    3/   20] | d_loss: 0.8133 | g_loss: 1.5936\n",
      "Epoch [    3/   20] | d_loss: 0.8834 | g_loss: 1.6670\n",
      "Epoch [    3/   20] | d_loss: 0.9571 | g_loss: 1.9542\n",
      "Epoch [    3/   20] | d_loss: 0.8842 | g_loss: 1.7333\n",
      "Epoch [    3/   20] | d_loss: 0.9383 | g_loss: 1.5324\n",
      "Epoch [    3/   20] | d_loss: 0.7814 | g_loss: 2.7481\n",
      "Epoch [    4/   20] | d_loss: 0.8206 | g_loss: 1.9264\n",
      "Epoch [    4/   20] | d_loss: 0.9754 | g_loss: 2.3960\n",
      "Epoch [    4/   20] | d_loss: 0.9505 | g_loss: 2.2370\n",
      "Epoch [    4/   20] | d_loss: 1.3059 | g_loss: 3.0538\n",
      "Epoch [    4/   20] | d_loss: 0.9542 | g_loss: 1.1000\n",
      "Epoch [    4/   20] | d_loss: 0.8424 | g_loss: 1.7629\n",
      "Epoch [    4/   20] | d_loss: 0.9620 | g_loss: 2.4744\n",
      "Epoch [    4/   20] | d_loss: 0.8456 | g_loss: 1.6355\n",
      "Epoch [    4/   20] | d_loss: 0.8904 | g_loss: 2.3144\n",
      "Epoch [    4/   20] | d_loss: 1.2584 | g_loss: 0.9907\n",
      "Epoch [    4/   20] | d_loss: 0.8550 | g_loss: 1.7758\n",
      "Epoch [    4/   20] | d_loss: 0.7843 | g_loss: 2.1617\n",
      "Epoch [    4/   20] | d_loss: 0.9936 | g_loss: 1.1029\n",
      "Epoch [    4/   20] | d_loss: 0.8456 | g_loss: 1.8725\n",
      "Epoch [    4/   20] | d_loss: 0.8617 | g_loss: 1.5553\n",
      "Epoch [    5/   20] | d_loss: 1.1300 | g_loss: 2.3151\n",
      "Epoch [    5/   20] | d_loss: 0.9459 | g_loss: 2.0043\n",
      "Epoch [    5/   20] | d_loss: 1.0839 | g_loss: 1.3939\n",
      "Epoch [    5/   20] | d_loss: 1.0826 | g_loss: 2.8359\n",
      "Epoch [    5/   20] | d_loss: 0.9039 | g_loss: 1.2597\n",
      "Epoch [    5/   20] | d_loss: 0.9711 | g_loss: 1.5477\n",
      "Epoch [    5/   20] | d_loss: 0.8462 | g_loss: 2.3240\n",
      "Epoch [    5/   20] | d_loss: 0.9232 | g_loss: 1.0808\n",
      "Epoch [    5/   20] | d_loss: 1.1230 | g_loss: 1.7042\n",
      "Epoch [    5/   20] | d_loss: 0.9628 | g_loss: 1.7290\n",
      "Epoch [    5/   20] | d_loss: 1.0461 | g_loss: 1.1988\n",
      "Epoch [    5/   20] | d_loss: 1.1838 | g_loss: 3.2438\n",
      "Epoch [    5/   20] | d_loss: 0.7292 | g_loss: 1.9470\n",
      "Epoch [    5/   20] | d_loss: 0.8065 | g_loss: 2.2787\n",
      "Epoch [    5/   20] | d_loss: 0.8204 | g_loss: 1.6951\n",
      "Epoch [    6/   20] | d_loss: 0.8955 | g_loss: 1.5795\n",
      "Epoch [    6/   20] | d_loss: 0.8491 | g_loss: 1.6429\n",
      "Epoch [    6/   20] | d_loss: 0.9395 | g_loss: 1.3134\n",
      "Epoch [    6/   20] | d_loss: 0.8561 | g_loss: 1.5416\n",
      "Epoch [    6/   20] | d_loss: 0.6843 | g_loss: 1.7629\n",
      "Epoch [    6/   20] | d_loss: 0.8074 | g_loss: 2.0099\n",
      "Epoch [    6/   20] | d_loss: 0.9895 | g_loss: 1.1923\n",
      "Epoch [    6/   20] | d_loss: 0.9227 | g_loss: 1.9198\n",
      "Epoch [    6/   20] | d_loss: 0.7272 | g_loss: 1.9355\n",
      "Epoch [    6/   20] | d_loss: 0.8245 | g_loss: 2.0120\n",
      "Epoch [    6/   20] | d_loss: 1.0054 | g_loss: 2.1790\n",
      "Epoch [    6/   20] | d_loss: 0.7916 | g_loss: 1.1787\n",
      "Epoch [    6/   20] | d_loss: 1.0924 | g_loss: 0.9650\n",
      "Epoch [    6/   20] | d_loss: 0.9594 | g_loss: 1.3530\n",
      "Epoch [    6/   20] | d_loss: 0.8769 | g_loss: 2.4769\n",
      "Epoch [    7/   20] | d_loss: 0.9168 | g_loss: 2.9287\n",
      "Epoch [    7/   20] | d_loss: 0.9854 | g_loss: 0.8481\n",
      "Epoch [    7/   20] | d_loss: 1.5372 | g_loss: 3.6515\n",
      "Epoch [    7/   20] | d_loss: 0.9435 | g_loss: 1.3664\n",
      "Epoch [    7/   20] | d_loss: 0.7802 | g_loss: 2.0494\n",
      "Epoch [    7/   20] | d_loss: 1.0696 | g_loss: 2.7208\n",
      "Epoch [    7/   20] | d_loss: 0.7723 | g_loss: 2.0765\n",
      "Epoch [    7/   20] | d_loss: 0.8024 | g_loss: 1.6405\n",
      "Epoch [    7/   20] | d_loss: 1.0328 | g_loss: 1.4456\n",
      "Epoch [    7/   20] | d_loss: 0.7827 | g_loss: 2.0016\n",
      "Epoch [    7/   20] | d_loss: 0.7535 | g_loss: 1.9940\n",
      "Epoch [    7/   20] | d_loss: 0.9432 | g_loss: 1.5425\n",
      "Epoch [    7/   20] | d_loss: 0.7409 | g_loss: 1.7226\n",
      "Epoch [    7/   20] | d_loss: 0.7407 | g_loss: 1.7958\n",
      "Epoch [    7/   20] | d_loss: 0.7087 | g_loss: 1.8289\n",
      "Epoch [    8/   20] | d_loss: 0.8002 | g_loss: 2.9579\n",
      "Epoch [    8/   20] | d_loss: 0.8428 | g_loss: 2.1450\n",
      "Epoch [    8/   20] | d_loss: 0.9312 | g_loss: 3.1623\n",
      "Epoch [    8/   20] | d_loss: 0.8016 | g_loss: 2.4129\n",
      "Epoch [    8/   20] | d_loss: 1.0514 | g_loss: 2.6928\n",
      "Epoch [    8/   20] | d_loss: 0.9500 | g_loss: 2.2186\n",
      "Epoch [    8/   20] | d_loss: 0.8807 | g_loss: 1.6095\n",
      "Epoch [    8/   20] | d_loss: 0.8707 | g_loss: 1.9513\n",
      "Epoch [    8/   20] | d_loss: 0.8068 | g_loss: 1.5083\n",
      "Epoch [    8/   20] | d_loss: 0.8460 | g_loss: 1.9108\n",
      "Epoch [    8/   20] | d_loss: 0.8374 | g_loss: 2.0635\n",
      "Epoch [    8/   20] | d_loss: 0.8799 | g_loss: 2.3587\n",
      "Epoch [    8/   20] | d_loss: 0.8015 | g_loss: 1.9579\n",
      "Epoch [    8/   20] | d_loss: 0.7894 | g_loss: 1.6678\n",
      "Epoch [    8/   20] | d_loss: 0.7150 | g_loss: 2.1286\n",
      "Epoch [    9/   20] | d_loss: 0.7504 | g_loss: 1.6869\n",
      "Epoch [    9/   20] | d_loss: 0.9456 | g_loss: 2.2750\n",
      "Epoch [    9/   20] | d_loss: 0.9722 | g_loss: 0.6383\n",
      "Epoch [    9/   20] | d_loss: 0.9447 | g_loss: 2.0024\n",
      "Epoch [    9/   20] | d_loss: 0.7830 | g_loss: 2.0918\n",
      "Epoch [    9/   20] | d_loss: 1.0134 | g_loss: 1.1504\n",
      "Epoch [    9/   20] | d_loss: 0.7296 | g_loss: 1.5444\n",
      "Epoch [    9/   20] | d_loss: 1.0992 | g_loss: 3.0987\n",
      "Epoch [    9/   20] | d_loss: 0.8816 | g_loss: 3.4029\n",
      "Epoch [    9/   20] | d_loss: 0.9442 | g_loss: 1.1677\n",
      "Epoch [    9/   20] | d_loss: 0.8608 | g_loss: 1.7895\n",
      "Epoch [    9/   20] | d_loss: 0.7888 | g_loss: 2.8539\n",
      "Epoch [    9/   20] | d_loss: 0.8210 | g_loss: 1.1884\n",
      "Epoch [    9/   20] | d_loss: 0.8504 | g_loss: 1.4474\n",
      "Epoch [    9/   20] | d_loss: 0.7848 | g_loss: 2.3600\n",
      "Epoch [   10/   20] | d_loss: 0.8157 | g_loss: 2.2082\n",
      "Epoch [   10/   20] | d_loss: 0.6766 | g_loss: 1.6087\n",
      "Epoch [   10/   20] | d_loss: 0.6793 | g_loss: 2.4344\n",
      "Epoch [   10/   20] | d_loss: 0.7940 | g_loss: 2.2645\n",
      "Epoch [   10/   20] | d_loss: 0.7217 | g_loss: 1.6531\n",
      "Epoch [   10/   20] | d_loss: 1.1578 | g_loss: 3.4768\n",
      "Epoch [   10/   20] | d_loss: 0.8002 | g_loss: 2.3552\n",
      "Epoch [   10/   20] | d_loss: 0.7077 | g_loss: 2.1800\n",
      "Epoch [   10/   20] | d_loss: 1.7635 | g_loss: 1.0826\n",
      "Epoch [   10/   20] | d_loss: 0.6313 | g_loss: 2.5026\n",
      "Epoch [   10/   20] | d_loss: 0.9375 | g_loss: 2.1562\n",
      "Epoch [   10/   20] | d_loss: 1.0346 | g_loss: 2.1832\n",
      "Epoch [   10/   20] | d_loss: 0.6363 | g_loss: 2.1384\n",
      "Epoch [   10/   20] | d_loss: 0.9747 | g_loss: 1.2276\n",
      "Epoch [   10/   20] | d_loss: 1.1888 | g_loss: 3.1734\n",
      "Epoch [   11/   20] | d_loss: 0.9675 | g_loss: 3.2241\n",
      "Epoch [   11/   20] | d_loss: 0.7694 | g_loss: 2.3027\n"
     ]
    },
    {
     "name": "stdout",
     "output_type": "stream",
     "text": [
      "Epoch [   11/   20] | d_loss: 0.7327 | g_loss: 1.8052\n",
      "Epoch [   11/   20] | d_loss: 0.9962 | g_loss: 0.9052\n",
      "Epoch [   11/   20] | d_loss: 0.7115 | g_loss: 2.5764\n",
      "Epoch [   11/   20] | d_loss: 0.8063 | g_loss: 3.3676\n",
      "Epoch [   11/   20] | d_loss: 0.6770 | g_loss: 2.9814\n",
      "Epoch [   11/   20] | d_loss: 0.6455 | g_loss: 2.0895\n",
      "Epoch [   11/   20] | d_loss: 1.2744 | g_loss: 3.5348\n",
      "Epoch [   11/   20] | d_loss: 0.7175 | g_loss: 2.0193\n",
      "Epoch [   11/   20] | d_loss: 0.7952 | g_loss: 1.3940\n",
      "Epoch [   11/   20] | d_loss: 0.7649 | g_loss: 2.1737\n",
      "Epoch [   11/   20] | d_loss: 0.8202 | g_loss: 1.7837\n",
      "Epoch [   11/   20] | d_loss: 0.6650 | g_loss: 1.6401\n",
      "Epoch [   11/   20] | d_loss: 0.6387 | g_loss: 2.4361\n",
      "Epoch [   12/   20] | d_loss: 1.2838 | g_loss: 3.9636\n",
      "Epoch [   12/   20] | d_loss: 0.6947 | g_loss: 2.5742\n",
      "Epoch [   12/   20] | d_loss: 0.9589 | g_loss: 1.5029\n",
      "Epoch [   12/   20] | d_loss: 0.7378 | g_loss: 1.8471\n",
      "Epoch [   12/   20] | d_loss: 0.7374 | g_loss: 1.5062\n",
      "Epoch [   12/   20] | d_loss: 0.8579 | g_loss: 2.1876\n",
      "Epoch [   12/   20] | d_loss: 0.9249 | g_loss: 1.6184\n",
      "Epoch [   12/   20] | d_loss: 0.8091 | g_loss: 1.7375\n",
      "Epoch [   12/   20] | d_loss: 0.8705 | g_loss: 1.5470\n",
      "Epoch [   12/   20] | d_loss: 0.7967 | g_loss: 1.6485\n",
      "Epoch [   12/   20] | d_loss: 0.6404 | g_loss: 2.2065\n",
      "Epoch [   12/   20] | d_loss: 0.7619 | g_loss: 2.1682\n",
      "Epoch [   12/   20] | d_loss: 0.6780 | g_loss: 2.7444\n",
      "Epoch [   12/   20] | d_loss: 0.8530 | g_loss: 1.2157\n",
      "Epoch [   12/   20] | d_loss: 0.5822 | g_loss: 2.5197\n",
      "Epoch [   13/   20] | d_loss: 0.9002 | g_loss: 1.8104\n",
      "Epoch [   13/   20] | d_loss: 0.5874 | g_loss: 2.7934\n",
      "Epoch [   13/   20] | d_loss: 0.6884 | g_loss: 2.6738\n",
      "Epoch [   13/   20] | d_loss: 1.5635 | g_loss: 0.4911\n",
      "Epoch [   13/   20] | d_loss: 0.6036 | g_loss: 2.3230\n",
      "Epoch [   13/   20] | d_loss: 0.7293 | g_loss: 1.8343\n",
      "Epoch [   13/   20] | d_loss: 0.6188 | g_loss: 1.8324\n",
      "Epoch [   13/   20] | d_loss: 0.5538 | g_loss: 2.7952\n",
      "Epoch [   13/   20] | d_loss: 0.7149 | g_loss: 2.0791\n",
      "Epoch [   13/   20] | d_loss: 0.6203 | g_loss: 2.3718\n",
      "Epoch [   13/   20] | d_loss: 0.7263 | g_loss: 1.2696\n",
      "Epoch [   13/   20] | d_loss: 0.6836 | g_loss: 1.3347\n",
      "Epoch [   13/   20] | d_loss: 0.5800 | g_loss: 2.2995\n",
      "Epoch [   13/   20] | d_loss: 1.1015 | g_loss: 1.1714\n",
      "Epoch [   13/   20] | d_loss: 0.7873 | g_loss: 2.5112\n",
      "Epoch [   14/   20] | d_loss: 0.6162 | g_loss: 2.3587\n",
      "Epoch [   14/   20] | d_loss: 0.6881 | g_loss: 2.2862\n",
      "Epoch [   14/   20] | d_loss: 0.8147 | g_loss: 1.5185\n",
      "Epoch [   14/   20] | d_loss: 0.6302 | g_loss: 1.5470\n",
      "Epoch [   14/   20] | d_loss: 0.6824 | g_loss: 1.7000\n",
      "Epoch [   14/   20] | d_loss: 0.7129 | g_loss: 2.0329\n",
      "Epoch [   14/   20] | d_loss: 0.6772 | g_loss: 1.2147\n",
      "Epoch [   14/   20] | d_loss: 0.7555 | g_loss: 1.9526\n",
      "Epoch [   14/   20] | d_loss: 0.6393 | g_loss: 2.2758\n",
      "Epoch [   14/   20] | d_loss: 1.6804 | g_loss: 4.3495\n",
      "Epoch [   14/   20] | d_loss: 0.7454 | g_loss: 2.2242\n",
      "Epoch [   14/   20] | d_loss: 0.6568 | g_loss: 2.7031\n",
      "Epoch [   14/   20] | d_loss: 0.6692 | g_loss: 1.6506\n",
      "Epoch [   14/   20] | d_loss: 0.7951 | g_loss: 1.1016\n",
      "Epoch [   14/   20] | d_loss: 0.8460 | g_loss: 3.1892\n",
      "Epoch [   15/   20] | d_loss: 0.5495 | g_loss: 2.0272\n",
      "Epoch [   15/   20] | d_loss: 0.7456 | g_loss: 3.2396\n",
      "Epoch [   15/   20] | d_loss: 0.6194 | g_loss: 1.9103\n",
      "Epoch [   15/   20] | d_loss: 1.8086 | g_loss: 5.9119\n",
      "Epoch [   15/   20] | d_loss: 0.7604 | g_loss: 1.6020\n",
      "Epoch [   15/   20] | d_loss: 0.9460 | g_loss: 3.4107\n",
      "Epoch [   15/   20] | d_loss: 0.8540 | g_loss: 1.7653\n",
      "Epoch [   15/   20] | d_loss: 0.7008 | g_loss: 1.5143\n",
      "Epoch [   15/   20] | d_loss: 0.7645 | g_loss: 2.0680\n",
      "Epoch [   15/   20] | d_loss: 0.6591 | g_loss: 1.6886\n",
      "Epoch [   15/   20] | d_loss: 0.8786 | g_loss: 2.4443\n",
      "Epoch [   15/   20] | d_loss: 0.6953 | g_loss: 2.5569\n",
      "Epoch [   15/   20] | d_loss: 0.7269 | g_loss: 1.3162\n",
      "Epoch [   15/   20] | d_loss: 0.6771 | g_loss: 2.2573\n",
      "Epoch [   15/   20] | d_loss: 0.8248 | g_loss: 2.7854\n",
      "Epoch [   16/   20] | d_loss: 1.2946 | g_loss: 4.2005\n",
      "Epoch [   16/   20] | d_loss: 0.5063 | g_loss: 2.0523\n",
      "Epoch [   16/   20] | d_loss: 0.5789 | g_loss: 1.6118\n",
      "Epoch [   16/   20] | d_loss: 0.7108 | g_loss: 2.6097\n",
      "Epoch [   16/   20] | d_loss: 0.5894 | g_loss: 1.9147\n",
      "Epoch [   16/   20] | d_loss: 0.8923 | g_loss: 2.3614\n",
      "Epoch [   16/   20] | d_loss: 0.6302 | g_loss: 2.0231\n",
      "Epoch [   16/   20] | d_loss: 0.6987 | g_loss: 2.2053\n",
      "Epoch [   16/   20] | d_loss: 0.6261 | g_loss: 1.9962\n",
      "Epoch [   16/   20] | d_loss: 0.8641 | g_loss: 2.1731\n",
      "Epoch [   16/   20] | d_loss: 0.7136 | g_loss: 2.0716\n",
      "Epoch [   16/   20] | d_loss: 0.5972 | g_loss: 3.1960\n",
      "Epoch [   16/   20] | d_loss: 0.7466 | g_loss: 1.5095\n",
      "Epoch [   16/   20] | d_loss: 0.6714 | g_loss: 2.1285\n",
      "Epoch [   16/   20] | d_loss: 0.6735 | g_loss: 3.2130\n",
      "Epoch [   17/   20] | d_loss: 0.6046 | g_loss: 2.4289\n",
      "Epoch [   17/   20] | d_loss: 0.6558 | g_loss: 2.2755\n",
      "Epoch [   17/   20] | d_loss: 0.7152 | g_loss: 1.7087\n",
      "Epoch [   17/   20] | d_loss: 0.7641 | g_loss: 2.4430\n",
      "Epoch [   17/   20] | d_loss: 0.6857 | g_loss: 1.5858\n",
      "Epoch [   17/   20] | d_loss: 0.6181 | g_loss: 1.9665\n",
      "Epoch [   17/   20] | d_loss: 0.9876 | g_loss: 0.8703\n",
      "Epoch [   17/   20] | d_loss: 0.4403 | g_loss: 3.8815\n",
      "Epoch [   17/   20] | d_loss: 0.9187 | g_loss: 3.0353\n",
      "Epoch [   17/   20] | d_loss: 1.1957 | g_loss: 4.4846\n",
      "Epoch [   17/   20] | d_loss: 0.5817 | g_loss: 3.4116\n",
      "Epoch [   17/   20] | d_loss: 0.4896 | g_loss: 2.7766\n",
      "Epoch [   17/   20] | d_loss: 0.6388 | g_loss: 3.3998\n",
      "Epoch [   17/   20] | d_loss: 0.9649 | g_loss: 1.5289\n",
      "Epoch [   17/   20] | d_loss: 0.6059 | g_loss: 2.2619\n",
      "Epoch [   18/   20] | d_loss: 0.8821 | g_loss: 1.8724\n",
      "Epoch [   18/   20] | d_loss: 0.6113 | g_loss: 2.8613\n",
      "Epoch [   18/   20] | d_loss: 0.5417 | g_loss: 2.6923\n",
      "Epoch [   18/   20] | d_loss: 0.4963 | g_loss: 3.2468\n",
      "Epoch [   18/   20] | d_loss: 0.7133 | g_loss: 1.8056\n",
      "Epoch [   18/   20] | d_loss: 1.1380 | g_loss: 1.0434\n",
      "Epoch [   18/   20] | d_loss: 0.4758 | g_loss: 3.0894\n",
      "Epoch [   18/   20] | d_loss: 0.5447 | g_loss: 1.8371\n",
      "Epoch [   18/   20] | d_loss: 0.7014 | g_loss: 2.2183\n",
      "Epoch [   18/   20] | d_loss: 1.0601 | g_loss: 1.5701\n",
      "Epoch [   18/   20] | d_loss: 0.6667 | g_loss: 1.9156\n",
      "Epoch [   18/   20] | d_loss: 0.5605 | g_loss: 3.1280\n",
      "Epoch [   18/   20] | d_loss: 0.5947 | g_loss: 2.0158\n",
      "Epoch [   18/   20] | d_loss: 0.7914 | g_loss: 1.5977\n",
      "Epoch [   18/   20] | d_loss: 0.7244 | g_loss: 2.2503\n",
      "Epoch [   19/   20] | d_loss: 1.2229 | g_loss: 3.3523\n",
      "Epoch [   19/   20] | d_loss: 0.4687 | g_loss: 3.0903\n",
      "Epoch [   19/   20] | d_loss: 0.7568 | g_loss: 2.7942\n",
      "Epoch [   19/   20] | d_loss: 0.5501 | g_loss: 1.6877\n",
      "Epoch [   19/   20] | d_loss: 0.5368 | g_loss: 3.2165\n",
      "Epoch [   19/   20] | d_loss: 0.5781 | g_loss: 2.7194\n",
      "Epoch [   19/   20] | d_loss: 0.6144 | g_loss: 2.5845\n",
      "Epoch [   19/   20] | d_loss: 0.5940 | g_loss: 3.1552\n",
      "Epoch [   19/   20] | d_loss: 0.5180 | g_loss: 3.2688\n",
      "Epoch [   19/   20] | d_loss: 0.5910 | g_loss: 2.8368\n",
      "Epoch [   19/   20] | d_loss: 0.7683 | g_loss: 1.8677\n",
      "Epoch [   19/   20] | d_loss: 0.5458 | g_loss: 2.3700\n",
      "Epoch [   19/   20] | d_loss: 0.5329 | g_loss: 2.4690\n",
      "Epoch [   19/   20] | d_loss: 0.9870 | g_loss: 1.2827\n",
      "Epoch [   19/   20] | d_loss: 0.5410 | g_loss: 2.5424\n",
      "Epoch [   20/   20] | d_loss: 0.5754 | g_loss: 1.9981\n",
      "Epoch [   20/   20] | d_loss: 0.6114 | g_loss: 2.1914\n",
      "Epoch [   20/   20] | d_loss: 0.5649 | g_loss: 3.5172\n",
      "Epoch [   20/   20] | d_loss: 0.8156 | g_loss: 3.4280\n",
      "Epoch [   20/   20] | d_loss: 0.5221 | g_loss: 2.9489\n",
      "Epoch [   20/   20] | d_loss: 0.6308 | g_loss: 3.8623\n",
      "Epoch [   20/   20] | d_loss: 0.6385 | g_loss: 2.8429\n",
      "Epoch [   20/   20] | d_loss: 0.4975 | g_loss: 2.4319\n",
      "Epoch [   20/   20] | d_loss: 0.6389 | g_loss: 1.9815\n",
      "Epoch [   20/   20] | d_loss: 0.6168 | g_loss: 2.0282\n",
      "Epoch [   20/   20] | d_loss: 0.7041 | g_loss: 3.1755\n",
      "Epoch [   20/   20] | d_loss: 1.3106 | g_loss: 0.7810\n",
      "Epoch [   20/   20] | d_loss: 0.5769 | g_loss: 2.3682\n",
      "Epoch [   20/   20] | d_loss: 0.8447 | g_loss: 1.2561\n",
      "Epoch [   20/   20] | d_loss: 0.5206 | g_loss: 3.1769\n"
     ]
    }
   ],
   "source": [
    "# set number of epochs \n",
    "n_epochs = 20\n",
    "\n",
    "\n",
    "\"\"\"\n",
    "DON'T MODIFY ANYTHING IN THIS CELL\n",
    "\"\"\"\n",
    "# call training function\n",
    "losses = train(D, G, n_epochs=n_epochs)"
   ]
  },
  {
   "cell_type": "markdown",
   "metadata": {
    "collapsed": true
   },
   "source": [
    "## Training loss\n",
    "\n",
    "Plot the training losses for the generator and discriminator, recorded after each epoch."
   ]
  },
  {
   "cell_type": "code",
   "execution_count": 31,
   "metadata": {
    "ExecuteTime": {
     "end_time": "2019-04-17T08:39:12.247571Z",
     "start_time": "2019-04-17T08:39:11.901739Z"
    }
   },
   "outputs": [
    {
     "data": {
      "text/plain": [
       "<matplotlib.legend.Legend at 0x7f5ab8b64278>"
      ]
     },
     "execution_count": 31,
     "metadata": {},
     "output_type": "execute_result"
    },
    {
     "data": {
      "image/png": "[encoded data removed]",
      "text/plain": [
       "<Figure size 432x288 with 1 Axes>"
      ]
     },
     "metadata": {
      "needs_background": "light"
     },
     "output_type": "display_data"
    }
   ],
   "source": [
    "fig, ax = plt.subplots()\n",
    "losses = np.array(losses)\n",
    "plt.plot(losses.T[0], label='Discriminator', alpha=0.5)\n",
    "plt.plot(losses.T[1], label='Generator', alpha=0.5)\n",
    "plt.title(\"Training Losses\")\n",
    "plt.legend()"
   ]
  },
  {
   "cell_type": "markdown",
   "metadata": {
    "collapsed": true
   },
   "source": [
    "## Generator samples from training\n",
    "\n",
    "View samples of images from the generator, and answer a question about the strengths and weaknesses of your trained models."
   ]
  },
  {
   "cell_type": "code",
   "execution_count": 32,
   "metadata": {
    "ExecuteTime": {
     "end_time": "2019-04-17T08:39:14.470926Z",
     "start_time": "2019-04-17T08:39:14.454917Z"
    }
   },
   "outputs": [],
   "source": [
    "# helper function for viewing a list of passed in sample images\n",
    "def view_samples(epoch, samples):\n",
    "    fig, axes = plt.subplots(figsize=(16,4), nrows=2, ncols=8, sharey=True, sharex=True)\n",
    "    for ax, img in zip(axes.flatten(), samples[epoch]):\n",
    "        img = img.detach().cpu().numpy()\n",
    "        img = np.transpose(img, (1, 2, 0))\n",
    "        img = ((img + 1)*255 / (2)).astype(np.uint8)\n",
    "        ax.xaxis.set_visible(False)\n",
    "        ax.yaxis.set_visible(False)\n",
    "        im = ax.imshow(img.reshape((32,32,3)))"
   ]
  },
  {
   "cell_type": "code",
   "execution_count": 33,
   "metadata": {
    "ExecuteTime": {
     "end_time": "2019-04-17T08:39:15.167807Z",
     "start_time": "2019-04-17T08:39:15.140794Z"
    }
   },
   "outputs": [],
   "source": [
    "# Load samples from generator, taken while training\n",
    "with open('train_samples.pkl', 'rb') as f:\n",
    "    samples = pkl.load(f)"
   ]
  },
  {
   "cell_type": "code",
   "execution_count": 34,
   "metadata": {
    "ExecuteTime": {
     "end_time": "2019-04-17T08:39:17.105599Z",
     "start_time": "2019-04-17T08:39:16.423949Z"
    }
   },
   "outputs": [
    {
     "data": {
      "image/png": "[encoded data removed]",
      "text/plain": [
       "<Figure size 1152x288 with 16 Axes>"
      ]
     },
     "metadata": {
      "needs_background": "light"
     },
     "output_type": "display_data"
    }
   ],
   "source": [
    "_ = view_samples(-1, samples)"
   ]
  },
  {
   "cell_type": "markdown",
   "metadata": {},
   "source": [
    "### Question: What do you notice about your generated samples and how might you improve this model?\n",
    "When you answer this question, consider the following factors:\n",
    "* The dataset is biased; it is made of \"celebrity\" faces that are mostly white\n",
    "* Model size; larger models have the opportunity to learn more features in a data feature space\n",
    "* Optimization strategy; optimizers and number of epochs affect your final result\n"
   ]
  },
  {
   "cell_type": "markdown",
   "metadata": {},
   "source": [
    "**Answer:** \n",
    "\n",
    "First, since the data set used in this experiment is mostly white, the images generated by the GAN are mostly white. This means that the dataset is biased. To improve this, image data of other races are needed.\n",
    "\n",
    "Second, the generator and discriminator use 64 conv_dim. To representate more features, we have to use larger value of conv_dim.\n",
    "\n",
    "Lastly, we could use other strategy such as [LSGAN](https://arxiv.org/abs/1611.04076) which modifies the original GAN by using L2 loss instead of log loss. It could help GAN learning the data manifold."
   ]
  },
  {
   "cell_type": "markdown",
   "metadata": {},
   "source": [
    "### Submitting This Project\n",
    "When submitting this project, make sure to run all the cells before saving the notebook. Save the notebook file as \"dlnd_face_generation.ipynb\" and save it as a HTML file under \"File\" -> \"Download as\". Include the \"problem_unittests.py\" files in your submission."
   ]
  },
  {
   "cell_type": "code",
   "execution_count": null,
   "metadata": {},
   "outputs": [],
   "source": []
  }
 ],
 "metadata": {
  "kernelspec": {
   "display_name": "Python 3",
   "language": "python",
   "name": "python3"
  },
  "language_info": {
   "codemirror_mode": {
    "name": "ipython",
    "version": 3
   },
   "file_extension": ".py",
   "mimetype": "text/x-python",
   "name": "python",
   "nbconvert_exporter": "python",
   "pygments_lexer": "ipython3",
   "version": "3.6.8"
  },
  "toc": {
   "base_numbering": 1,
   "nav_menu": {},
   "number_sections": false,
   "sideBar": true,
   "skip_h1_title": false,
   "title_cell": "Table of Contents",
   "title_sidebar": "Contents",
   "toc_cell": false,
   "toc_position": {},
   "toc_section_display": true,
   "toc_window_display": true
  },
  "varInspector": {
   "cols": {
    "lenName": 16,
    "lenType": 16,
    "lenVar": 40
   },
   "kernels_config": {
    "python": {
     "delete_cmd_postfix": "",
     "delete_cmd_prefix": "del ",
     "library": "var_list.py",
     "varRefreshCmd": "print(var_dic_list())"
    },
    "r": {
     "delete_cmd_postfix": ") ",
     "delete_cmd_prefix": "rm(",
     "library": "var_list.r",
     "varRefreshCmd": "cat(var_dic_list()) "
    }
   },
   "types_to_exclude": [
    "module",
    "function",
    "builtin_function_or_method",
    "instance",
    "_Feature"
   ],
   "window_display": false
  }
 },
 "nbformat": 4,
 "nbformat_minor": 1
}
